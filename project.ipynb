{
  "nbformat": 4,
  "nbformat_minor": 0,
  "metadata": {
    "colab": {
      "provenance": [],
      "authorship_tag": "ABX9TyPA951z42MewSMY/jw+BI1S",
      "include_colab_link": true
    },
    "kernelspec": {
      "name": "python3",
      "display_name": "Python 3"
    },
    "language_info": {
      "name": "python"
    }
  },
  "cells": [
    {
      "cell_type": "markdown",
      "metadata": {
        "id": "view-in-github",
        "colab_type": "text"
      },
      "source": [
        "<a href=\"https://colab.research.google.com/github/ThitipongKidnai/thitipong-kidnai/blob/main/project.ipynb\" target=\"_parent\"><img src=\"https://colab.research.google.com/assets/colab-badge.svg\" alt=\"Open In Colab\"/></a>"
      ]
    },
    {
      "cell_type": "code",
      "execution_count": null,
      "metadata": {
        "id": "daEFd-tOx-OM"
      },
      "outputs": [],
      "source": [
        "import moviepy.editor as mp\n",
        "import numpy as np\n",
        "import matplotlib.pyplot as plt\n",
        "import librosa\n",
        "import librosa.display\n",
        "import soundfile as sf\n",
        "\n",
        "\n",
        "DECIBEL_THRESHOLD = 85  # เกณฑ์เสียงอันตราย (dB)\n",
        "TIME_THRESHOLD = 120  # เวลาสูงสุดที่ยอมให้เสียงดังเกินกำหนด (วินาที)\n",
        "\n",
        "\n",
        "video_path = \"15.mp4\"\n",
        "audio_path = \"15.wav\"\n",
        "\n",
        "#ดึงไฟล์เสียงจากวิดีโอ\n",
        "video = mp.VideoFileClip(video_path)\n",
        "video.audio.write_audiofile(audio_path)\n",
        "\n",
        "#โหลดไฟล์เสียงเพื่อวิเคราะห์\n",
        "audio, sr = librosa.load(audio_path, sr=44100)  # โหลดเสียงที่ sample rate 44.1kHz\n",
        "\n",
        "#คำนวณระดับเสียงในหน่วย dB\n",
        "def calculate_decibels(audio_signal):\n",
        "    rms = np.sqrt(np.mean(audio_signal**2))  # คำนวณค่า RMS ของสัญญาณเสียง\n",
        "    decibel_level = 20 * np.log10(rms)  # แปลงค่าเป็นเดซิเบล\n",
        "    return decibel_level\n",
        "\n",
        "# แบ่งเสียงเป็นช่วงละ 1 วินาทีเพื่อวิเคราะห์\n",
        "frame_size = sr  # 1 วินาที = จำนวน sample เท่ากับ sample rate\n",
        "num_frames = len(audio) // frame_size  # คำนวณจำนวนเฟรมที่สามารถแบ่งได้\n",
        "\n",
        "decibel_values = []\n",
        "timestamps = []\n",
        "\n",
        "for i in range(num_frames):\n",
        "    start = i * frame_size\n",
        "    end = start + frame_size\n",
        "    frame_audio = audio[start:end]\n",
        "    decibel_values.append(calculate_decibels(frame_audio))\n",
        "    timestamps.append(i)  # Timestamp ในหน่วยวินาที\n",
        "\n",
        "#แสดงกราฟระดับเสียง\n",
        "plt.figure(figsize=(10, 5))\n",
        "plt.plot(timestamps, decibel_values, color='b', label=\"Decibel Level\")\n",
        "plt.axhline(y=DECIBEL_THRESHOLD, color='r', linestyle='--', label=\"85 dB Threshold\")\n",
        "plt.xlabel(\"Time (seconds)\")\n",
        "plt.ylabel(\"Decibel Level (dB)\")\n",
        "plt.title(\"Sound Level Over Time\")\n",
        "plt.legend()\n",
        "plt.grid()\n",
        "plt.show()\n",
        "\n",
        "#ตรวจสอบว่ามีเสียงดังเกิน 85 dB เป็นเวลานานกว่า 2 นาทีหรือไม่\n",
        "exceed_time = sum([1 for db in decibel_values if db > DECIBEL_THRESHOLD])\n",
        "\n",
        "if exceed_time >= TIME_THRESHOLD:\n",
        "    print(\"⚠️ เสียงดังเกิน 85 dB เป็นเวลานานกว่า 2 นาที! ควรหลีกเลี่ยงบริเวณนี้ ⚠️\")\n",
        "else:\n",
        "    print(\"✅ เสียงอยู่ในระดับปลอดภัย\")\n",
        "\n"
      ]
    }
  ]
}